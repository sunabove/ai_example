{
 "cells": [
  {
   "cell_type": "code",
   "execution_count": 1,
   "metadata": {},
   "outputs": [
    {
     "name": "stdout",
     "output_type": "stream",
     "text": [
      "Hello ... Good morning ! \n",
      "****************************\n",
      "****************************\n",
      "test image size = (64, 64, 4)\n",
      "test resize image size = (64, 64, 4)\n",
      "test 3 channel image size = (64, 64, 3)\n",
      "test data extended size = (1, 64, 64, 3)\n",
      "\n",
      "Model Predict\n",
      "The answer = [[9.6676207e-01 8.1537682e-06 3.3229772e-02 2.2018289e-08]] \n",
      "\n",
      "Good bye! I am going to play table tennis.\n"
     ]
    }
   ],
   "source": [
    "print( \"Hello ... Good morning ! \")\n",
    "import keras, numpy as np, tensorflow as tf\n",
    "\n",
    "print(\"****************************\")\n",
    "from keras.models import load_model\n",
    "model = load_model('my_model.h5')\n",
    "#model.summary()\n",
    "print(\"****************************\")\n",
    "\n",
    "import matplotlib.pyplot as plt\n",
    "\n",
    "valid_file = 'test/1.png'\n",
    "test = plt.imread(valid_file)\n",
    "print( f\"test image size = {test.shape}\")\n",
    "\n",
    "if 1 : \n",
    "    from skimage.transform import resize\n",
    "    test = resize( test, (64, 64) ) \n",
    "    print( f\"test resize image size = {test.shape}\")\n",
    "pass\n",
    "\n",
    "test = test[ :, :, 0:3 ]\n",
    "print( f\"test 3 channel image size = {test.shape}\")\n",
    "\n",
    "# 테스트 데이터들에 테스트 데이터들을 추갓합니다.\n",
    "test_data = []\n",
    "test_data.append( test )\n",
    "test_data = np.array( test_data )\n",
    "print( f\"test data extended size = {test_data.shape}\")  \n",
    "\n",
    "\n",
    "#plt.imshow(test)\n",
    "\n",
    "# Let's check:\n",
    "print(\"\\nModel Predict\")\n",
    "answer = model.predict(test_data)\n",
    "\n",
    "print( f\"The answer = {answer} \")\n",
    "\n",
    "print( \"\\nGood bye! I am going to play table tennis.\")"
   ]
  }
 ],
 "metadata": {
  "interpreter": {
   "hash": "9409fbc581cd171889d38aede8daac187bc478acd345445a9c0de1d285fc5920"
  },
  "kernelspec": {
   "display_name": "Python 3.8.12 64-bit ('my_env': conda)",
   "language": "python",
   "name": "python3"
  },
  "language_info": {
   "codemirror_mode": {
    "name": "ipython",
    "version": 3
   },
   "file_extension": ".py",
   "mimetype": "text/x-python",
   "name": "python",
   "nbconvert_exporter": "python",
   "pygments_lexer": "ipython3",
   "version": "3.9.7"
  },
  "orig_nbformat": 4
 },
 "nbformat": 4,
 "nbformat_minor": 2
}
